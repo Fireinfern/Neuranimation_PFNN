{
 "cells": [
  {
   "cell_type": "code",
   "execution_count": null,
   "metadata": {
    "gradient": {}
   },
   "outputs": [],
   "source": [
    "import tensorflow as tf\n",
    "import numpy as np\n",
    "from tensorflow.keras import layers, optimizers, losses, models\n",
    "import matplotlib.pyplot as plt"
   ]
  },
  {
   "cell_type": "code",
   "execution_count": null,
   "metadata": {
    "gradient": {}
   },
   "outputs": [],
   "source": [
    "database = np.load(\"database.npz\")"
   ]
  },
  {
   "cell_type": "code",
   "execution_count": null,
   "metadata": {
    "gradient": {}
   },
   "outputs": [],
   "source": [
    "X = database[\"Xun\"].astype(np.float32)"
   ]
  },
  {
   "cell_type": "code",
   "execution_count": null,
   "metadata": {
    "gradient": {}
   },
   "outputs": [],
   "source": [
    "Y = database[\"Yun\"].astype(np.float32)"
   ]
  },
  {
   "cell_type": "code",
   "execution_count": null,
   "metadata": {
    "gradient": {}
   },
   "outputs": [],
   "source": [
    "P = database['Pun'].astype(np.float32)"
   ]
  },
  {
   "cell_type": "code",
   "execution_count": null,
   "metadata": {
    "gradient": {}
   },
   "outputs": [],
   "source": [
    "del database"
   ]
  },
  {
   "cell_type": "code",
   "execution_count": null,
   "metadata": {
    "gradient": {}
   },
   "outputs": [],
   "source": [
    "Xmean = np.fromfile(\"Xmean.bin\", dtype=np.float32)\n",
    "Ymean = np.fromfile(\"Ymean.bin\", dtype=np.float32)\n",
    "Xstd = np.fromfile(\"Xstd.bin\", dtype=np.float32)\n",
    "Ystd = np.fromfile(\"Ystd.bin\", dtype=np.float32)"
   ]
  },
  {
   "cell_type": "code",
   "execution_count": null,
   "metadata": {
    "gradient": {}
   },
   "outputs": [],
   "source": [
    "X = (X - Xmean) / Xstd\n",
    "Y = (Y - Ymean) / Ystd"
   ]
  },
  {
   "cell_type": "code",
   "execution_count": null,
   "metadata": {
    "gradient": {}
   },
   "outputs": [],
   "source": [
    "del Xmean\n",
    "del Xstd\n",
    "del Ymean\n",
    "del Ystd"
   ]
  },
  {
   "cell_type": "code",
   "execution_count": null,
   "metadata": {
    "gradient": {}
   },
   "outputs": [],
   "source": [
    "E = np.concatenate((X, P[:, None]), axis=1)"
   ]
  },
  {
   "cell_type": "code",
   "execution_count": null,
   "metadata": {
    "gradient": {}
   },
   "outputs": [],
   "source": [
    "del X\n",
    "del P"
   ]
  },
  {
   "cell_type": "markdown",
   "metadata": {},
   "source": [
    "# Creacion de Capa Personalizada"
   ]
  },
  {
   "cell_type": "code",
   "execution_count": null,
   "metadata": {
    "gradient": {}
   },
   "outputs": [],
   "source": [
    "class PhaseLayer(layers.Layer):\n",
    "    def __init__(self, rng=np.random.RandomState(23456),units=512, input_dim=512, number_of_phases=4):\n",
    "        super(PhaseLayer, self).__init__()\n",
    "        self.nslices = number_of_phases\n",
    "        self.units = units\n",
    "        self.input_dim = input_dim\n",
    "        self.rng = rng\n",
    "    \n",
    "        self.w = tf.Variable(self.initial_alpha(), name=\"w\", trainable=True)\n",
    "        self.b = tf.Variable(self.initial_beta(), name=\"b\", trainable=True)\n",
    "    \n",
    "    def initial_alpha(self):\n",
    "        shape = (self.nslices, self.input_dim, self.units)\n",
    "        alpha_bound = np.sqrt(6. / np.prod(shape[-2:]))\n",
    "        alpha = np.asarray(\n",
    "            self.rng.uniform(low=-alpha_bound, high=alpha_bound, size=shape),\n",
    "            dtype=np.float32\n",
    "        )\n",
    "        return tf.convert_to_tensor(alpha, dtype=tf.float32)\n",
    "    \n",
    "    def initial_beta(self):\n",
    "        return tf.zeros((self.nslices, self.units), dtype=tf.float32)\n",
    "    \n",
    "    def call(self, inputs):\n",
    "        return tf.matmul(inputs, self.w) + self.b"
   ]
  },
  {
   "cell_type": "markdown",
   "metadata": {
    "gradient": {
     "editing": false
    }
   },
   "source": [
    "# Creacion del Modelo Personalizado"
   ]
  },
  {
   "cell_type": "code",
   "execution_count": null,
   "metadata": {
    "gradient": {
     "editing": false
    }
   },
   "outputs": [],
   "source": [
    "class PFNN(tf.keras.Model):\n",
    "    def __init__(self, input_dim=1, output_dim=1, dropout=0.3, **kwargs):\n",
    "        super(PFNN ,self).__init__(**kwargs)\n",
    "        self.nslices = 4\n",
    "        self.input_dim=input_dim\n",
    "        self.output_dim=output_dim\n",
    "    \n",
    "        self.dropout0 = layers.Dropout(dropout)\n",
    "        self.dropout1 = layers.Dropout(dropout)\n",
    "        self.dropout2 = layers.Dropout(dropout)\n",
    "    \n",
    "        self.activation = layers.ELU()\n",
    "    \n",
    "        self.layer0 = PhaseLayer(input_dim=input_dim)\n",
    "        self.layer1 = PhaseLayer()\n",
    "        self.layer2 = PhaseLayer(units=output_dim)\n",
    "\n",
    "    def call(self, inputs):\n",
    "        pscale = self.nslices * inputs[:,-1]\n",
    "        pamount = pscale % 1.0\n",
    "    \n",
    "        pindex_1 = tf.cast(pscale, 'int32') % self.nslices\n",
    "        pindex_0 = (pindex_1-1) % self.nslices\n",
    "        pindex_2 = (pindex_1+1) % self.nslices\n",
    "        pindex_3 = (pindex_1+2) % self.nslices\n",
    "    \n",
    "        bamount = tf.expand_dims(pamount, 1)\n",
    "        wamount = tf.expand_dims(bamount, 1)\n",
    "\n",
    "        def cubic(y0, y1, y2, y3, mu):\n",
    "            return (\n",
    "           (-0.5*y0+1.5*y1-1.5*y2+0.5*y3)*mu*mu*mu + \n",
    "           (y0-2.5*y1+2.0*y2-0.5*y3)*mu*mu + \n",
    "           (-0.5*y0+0.5*y2)*mu +\n",
    "           (y1))\n",
    "    \n",
    "        W0 = cubic(\n",
    "            tf.nn.embedding_lookup(self.layer0.w, pindex_0), \n",
    "            tf.nn.embedding_lookup(self.layer0.w, pindex_1), \n",
    "            tf.nn.embedding_lookup(self.layer0.w, pindex_2), \n",
    "            tf.nn.embedding_lookup(self.layer0.w, pindex_3), \n",
    "            wamount)\n",
    "        W1 = cubic(\n",
    "            tf.nn.embedding_lookup(self.layer1.w, pindex_0), \n",
    "            tf.nn.embedding_lookup(self.layer1.w, pindex_1), \n",
    "            tf.nn.embedding_lookup(self.layer1.w, pindex_2), \n",
    "            tf.nn.embedding_lookup(self.layer1.w, pindex_3), \n",
    "            wamount)\n",
    "        W2 = cubic(\n",
    "            tf.nn.embedding_lookup(self.layer2.w, pindex_0), \n",
    "            tf.nn.embedding_lookup(self.layer2.w, pindex_1), \n",
    "            tf.nn.embedding_lookup(self.layer2.w, pindex_2), \n",
    "            tf.nn.embedding_lookup(self.layer2.w, pindex_3), \n",
    "            wamount)\n",
    "        \n",
    "        b0 = cubic(\n",
    "            tf.nn.embedding_lookup(self.layer0.b, pindex_0), \n",
    "            tf.nn.embedding_lookup(self.layer0.b, pindex_1), \n",
    "            tf.nn.embedding_lookup(self.layer0.b, pindex_2), \n",
    "            tf.nn.embedding_lookup(self.layer0.b, pindex_3), \n",
    "            bamount)\n",
    "        b1 = cubic(\n",
    "            tf.nn.embedding_lookup(self.layer1.b, pindex_0),\n",
    "            tf.nn.embedding_lookup(self.layer1.b, pindex_1),\n",
    "            tf.nn.embedding_lookup(self.layer1.b, pindex_2),\n",
    "            tf.nn.embedding_lookup(self.layer1.b, pindex_3),\n",
    "            bamount)\n",
    "        b2 = cubic(\n",
    "            tf.nn.embedding_lookup(self.layer2.b, pindex_0),\n",
    "            tf.nn.embedding_lookup(self.layer2.b, pindex_1),\n",
    "            tf.nn.embedding_lookup(self.layer2.b, pindex_2),\n",
    "            tf.nn.embedding_lookup(self.layer2.b, pindex_3),\n",
    "            bamount)\n",
    "        \n",
    "        H0 = inputs[:, :-1]\n",
    "        H1 = self.activation(tf.matmul(self.dropout0(H0), W0) + b0)\n",
    "        H2 = self.activation(tf.matmul(self.dropout0(H1), W1) + b1)\n",
    "        H3 = tf.matmul(self.dropout2(H2), W2) + b2\n",
    "    \n",
    "        return H3\n",
    "    \n",
    "    def save_checkpoint(self, direction):\n",
    "        W0 = self.layer0.w.numpy()\n",
    "        W1 = self.layer1.w.numpy()\n",
    "        W2 = self.layer2.w.numpy()\n",
    "        \n",
    "        b0 = self.layer0.b.numpy()\n",
    "        b1 = self.layer1.b.numpy()\n",
    "        b2 = self.layer2.b.numpy()\n",
    "        np.savez_compressed(direction + \"layer0\", weights=W0, bias=b0)\n",
    "        np.savez_compressed(direction + \"layer1\", weights=W1, bias=b1)\n",
    "        np.savez_compressed(direction + \"layer2\", weights=W0, bias=b2)"
   ]
  },
  {
   "cell_type": "code",
   "execution_count": null,
   "metadata": {
    "gradient": {
     "editing": false
    }
   },
   "outputs": [],
   "source": [
    "pfnn = PFNN(input_dim=342, output_dim=311)"
   ]
  },
  {
   "cell_type": "code",
   "execution_count": null,
   "metadata": {
    "gradient": {
     "editing": false
    }
   },
   "outputs": [],
   "source": [
    "pfnn.compile(optimizer=optimizers.Adam(), loss='mse')"
   ]
  },
  {
   "cell_type": "code",
   "execution_count": null,
   "metadata": {
    "gradient": {
     "editing": false
    }
   },
   "outputs": [
    {
     "name": "stdout",
     "output_type": "stream",
     "text": [
      "Epoch 1/2\n",
      "136050/136050 [==============================] - 5905s 43ms/step - loss: 0.2616\n",
      "Epoch 2/2\n",
      "136050/136050 [==============================] - 5907s 43ms/step - loss: 0.2299\n"
     ]
    },
    {
     "data": {
      "text/plain": [
       "<tensorflow.python.keras.callbacks.History at 0x7f7240167f98>"
      ]
     },
     "execution_count": 16,
     "metadata": {},
     "output_type": "execute_result"
    }
   ],
   "source": [
    "pfnn.fit(x=E, y=Y, epochs=2, batch_size=32, shuffle=False)"
   ]
  },
  {
   "cell_type": "code",
   "execution_count": null,
   "metadata": {
    "gradient": {
     "editing": false
    }
   },
   "outputs": [],
   "source": [
    "pfnn.save_checkpoint(\"checkpoints/\")"
   ]
  },
  {
   "cell_type": "code",
   "execution_count": null,
   "metadata": {
    "gradient": {
     "editing": false
    }
   },
   "outputs": [],
   "source": []
  }
 ],
 "metadata": {
  "kernelspec": {
   "display_name": "Python 3",
   "language": "python",
   "name": "python3"
  },
  "language_info": {
   "codemirror_mode": {
    "name": "ipython",
    "version": 3
   },
   "file_extension": ".py",
   "mimetype": "text/x-python",
   "name": "python",
   "nbconvert_exporter": "python",
   "pygments_lexer": "ipython3",
   "version": "3.6.9"
  }
 },
 "nbformat": 4,
 "nbformat_minor": 2
}
